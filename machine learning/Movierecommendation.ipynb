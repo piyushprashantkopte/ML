{
 "cells": [
  {
   "cell_type": "code",
   "execution_count": 18,
   "id": "0ac9ed62",
   "metadata": {},
   "outputs": [],
   "source": [
    "import pandas as pd\n",
    "import numpy as np\n",
    "from sklearn.feature_extraction.text import TfidfVectorizer\n",
    "from sklearn.metrics.pairwise import linear_kernel"
   ]
  },
  {
   "cell_type": "code",
   "execution_count": 19,
   "id": "0072b0c0",
   "metadata": {},
   "outputs": [
    {
     "name": "stdout",
     "output_type": "stream",
     "text": [
      "   index     budget                                    genres  \\\n",
      "0      0  237000000  Action Adventure Fantasy Science Fiction   \n",
      "1      1  300000000                  Adventure Fantasy Action   \n",
      "2      2  245000000                    Action Adventure Crime   \n",
      "3      3  250000000               Action Crime Drama Thriller   \n",
      "4      4  260000000          Action Adventure Science Fiction   \n",
      "\n",
      "                                       homepage      id  \\\n",
      "0                   http://www.avatarmovie.com/   19995   \n",
      "1  http://disney.go.com/disneypictures/pirates/     285   \n",
      "2   http://www.sonypictures.com/movies/spectre/  206647   \n",
      "3            http://www.thedarkknightrises.com/   49026   \n",
      "4          http://movies.disney.com/john-carter   49529   \n",
      "\n",
      "                                            keywords original_language  \\\n",
      "0  culture clash future space war space colony so...                en   \n",
      "1  ocean drug abuse exotic island east india trad...                en   \n",
      "2         spy based on novel secret agent sequel mi6                en   \n",
      "3  dc comics crime fighter terrorist secret ident...                en   \n",
      "4  based on novel mars medallion space travel pri...                en   \n",
      "\n",
      "                             original_title  \\\n",
      "0                                    Avatar   \n",
      "1  Pirates of the Caribbean: At World's End   \n",
      "2                                   Spectre   \n",
      "3                     The Dark Knight Rises   \n",
      "4                               John Carter   \n",
      "\n",
      "                                            overview  popularity  ... runtime  \\\n",
      "0  In the 22nd century, a paraplegic Marine is di...  150.437577  ...   162.0   \n",
      "1  Captain Barbossa, long believed to be dead, ha...  139.082615  ...   169.0   \n",
      "2  A cryptic message from Bond’s past sends him o...  107.376788  ...   148.0   \n",
      "3  Following the death of District Attorney Harve...  112.312950  ...   165.0   \n",
      "4  John Carter is a war-weary, former military ca...   43.926995  ...   132.0   \n",
      "\n",
      "                                    spoken_languages    status  \\\n",
      "0  [{\"iso_639_1\": \"en\", \"name\": \"English\"}, {\"iso...  Released   \n",
      "1           [{\"iso_639_1\": \"en\", \"name\": \"English\"}]  Released   \n",
      "2  [{\"iso_639_1\": \"fr\", \"name\": \"Fran\\u00e7ais\"},...  Released   \n",
      "3           [{\"iso_639_1\": \"en\", \"name\": \"English\"}]  Released   \n",
      "4           [{\"iso_639_1\": \"en\", \"name\": \"English\"}]  Released   \n",
      "\n",
      "                                          tagline  \\\n",
      "0                     Enter the World of Pandora.   \n",
      "1  At the end of the world, the adventure begins.   \n",
      "2                           A Plan No One Escapes   \n",
      "3                                 The Legend Ends   \n",
      "4            Lost in our world, found in another.   \n",
      "\n",
      "                                      title vote_average vote_count  \\\n",
      "0                                    Avatar          7.2      11800   \n",
      "1  Pirates of the Caribbean: At World's End          6.9       4500   \n",
      "2                                   Spectre          6.3       4466   \n",
      "3                     The Dark Knight Rises          7.6       9106   \n",
      "4                               John Carter          6.1       2124   \n",
      "\n",
      "                                                cast  \\\n",
      "0  Sam Worthington Zoe Saldana Sigourney Weaver S...   \n",
      "1  Johnny Depp Orlando Bloom Keira Knightley Stel...   \n",
      "2  Daniel Craig Christoph Waltz L\\u00e9a Seydoux ...   \n",
      "3  Christian Bale Michael Caine Gary Oldman Anne ...   \n",
      "4  Taylor Kitsch Lynn Collins Samantha Morton Wil...   \n",
      "\n",
      "                                                crew           director  \n",
      "0  [{'name': 'Stephen E. Rivkin', 'gender': 0, 'd...      James Cameron  \n",
      "1  [{'name': 'Dariusz Wolski', 'gender': 2, 'depa...     Gore Verbinski  \n",
      "2  [{'name': 'Thomas Newman', 'gender': 2, 'depar...         Sam Mendes  \n",
      "3  [{'name': 'Hans Zimmer', 'gender': 2, 'departm...  Christopher Nolan  \n",
      "4  [{'name': 'Andrew Stanton', 'gender': 2, 'depa...     Andrew Stanton  \n",
      "\n",
      "[5 rows x 24 columns]\n",
      "\n",
      "Dataset shape: (4803, 24)\n",
      "\n",
      "Columns: Index(['index', 'budget', 'genres', 'homepage', 'id', 'keywords',\n",
      "       'original_language', 'original_title', 'overview', 'popularity',\n",
      "       'production_companies', 'production_countries', 'release_date',\n",
      "       'revenue', 'runtime', 'spoken_languages', 'status', 'tagline', 'title',\n",
      "       'vote_average', 'vote_count', 'cast', 'crew', 'director'],\n",
      "      dtype='object')\n",
      "\n",
      "Missing values:\n",
      " index                      0\n",
      "budget                     0\n",
      "genres                    28\n",
      "homepage                3091\n",
      "id                         0\n",
      "keywords                 412\n",
      "original_language          0\n",
      "original_title             0\n",
      "overview                   3\n",
      "popularity                 0\n",
      "production_companies       0\n",
      "production_countries       0\n",
      "release_date               1\n",
      "revenue                    0\n",
      "runtime                    2\n",
      "spoken_languages           0\n",
      "status                     0\n",
      "tagline                  844\n",
      "title                      0\n",
      "vote_average               0\n",
      "vote_count                 0\n",
      "cast                      43\n",
      "crew                       0\n",
      "director                  30\n",
      "dtype: int64\n"
     ]
    }
   ],
   "source": [
    "# Load the dataset\n",
    "url = \"https://raw.githubusercontent.com/rashida048/Some-NLP-Projects/master/movie_dataset.csv\"\n",
    "movies = pd.read_csv(url)\n",
    "\n",
    "\n",
    "print(movies.head())\n",
    "print(\"\\nDataset shape:\", movies.shape)\n",
    "print(\"\\nColumns:\", movies.columns)\n",
    "print(\"\\nMissing values:\\n\", movies.isnull().sum())"
   ]
  },
  {
   "cell_type": "code",
   "execution_count": 20,
   "id": "ec1cb4fc",
   "metadata": {},
   "outputs": [],
   "source": [
    "# Fill missing values in important columns\n",
    "movies['keywords'] = movies['keywords'].fillna('')\n",
    "movies['tagline'] = movies['tagline'].fillna('')\n",
    "movies['overview'] = movies['overview'].fillna('')\n"
   ]
  },
  {
   "cell_type": "code",
   "execution_count": 21,
   "id": "d98ae0d0",
   "metadata": {},
   "outputs": [
    {
     "name": "stdout",
     "output_type": "stream",
     "text": [
      "Null values after creation: 0\n",
      "Empty strings: 0\n",
      "TF-IDF Matrix Shape: (4803, 10000)\n"
     ]
    }
   ],
   "source": [
    "\n",
    "# 1. First create the 'combined_features' column safely\n",
    "text_columns = ['genres', 'keywords', 'overview', 'tagline']  # Common movie dataset columns\n",
    "\n",
    "# Check which columns actually exist in your dataset\n",
    "available_columns = [col for col in text_columns if col in movies.columns]\n",
    "\n",
    "# Create combined features by joining available columns\n",
    "movies['combined_features'] = (\n",
    "    movies[available_columns]\n",
    "    .fillna('')  # Fill missing values with empty string\n",
    "    .astype(str)  # Convert all to strings\n",
    "    .agg(' '.join, axis=1)  # Combine columns with space between them\n",
    "    .str.replace(r'\\s+', ' ', regex=True)  # Normalize whitespace\n",
    "    .str.strip()  # Remove leading/trailing spaces\n",
    ")\n",
    "\n",
    "# 2. Now perform the null checks\n",
    "print(\"Null values after creation:\", movies['combined_features'].isnull().sum())\n",
    "print(\"Empty strings:\", (movies['combined_features'] == '').sum())\n",
    "\n",
    "# 3. Handle any empty strings if needed\n",
    "movies['combined_features'] = movies['combined_features'].replace('', 'no_description')\n",
    "\n",
    "# 4. Create TF-IDF matrix\n",
    "tfidf = TfidfVectorizer(\n",
    "    stop_words='english',\n",
    "    min_df=2,\n",
    "    max_features=10000\n",
    ")\n",
    "tfidf_matrix = tfidf.fit_transform(movies['combined_features'])\n",
    "\n",
    "print(\"TF-IDF Matrix Shape:\", tfidf_matrix.shape)"
   ]
  },
  {
   "cell_type": "code",
   "execution_count": 22,
   "id": "2f39d00f",
   "metadata": {},
   "outputs": [],
   "source": [
    "# Compute the cosine similarity matrix\n",
    "cosine_sim = linear_kernel(tfidf_matrix, tfidf_matrix)\n",
    "\n",
    "# Create a mapping between movie titles and indices\n",
    "indices = pd.Series(movies.index, index=movies['title']).drop_duplicates()"
   ]
  },
  {
   "cell_type": "code",
   "execution_count": 23,
   "id": "96a1b018",
   "metadata": {},
   "outputs": [],
   "source": [
    "def get_recommendations(title, cosine_sim=cosine_sim, movies=movies, indices=indices):\n",
    "    # Get the index of the movie that matches the title\n",
    "    idx = indices[title]\n",
    "    \n",
    "    # Get the pairwise similarity scores of all movies with that movie\n",
    "    sim_scores = list(enumerate(cosine_sim[idx]))\n",
    "    \n",
    "    # Sort the movies based on the similarity scores\n",
    "    sim_scores = sorted(sim_scores, key=lambda x: x[1], reverse=True)\n",
    "    \n",
    "    # Get the scores of the 10 most similar movies\n",
    "    sim_scores = sim_scores[1:11]\n",
    "    \n",
    "    # Get the movie indices\n",
    "    movie_indices = [i[0] for i in sim_scores]\n",
    "    \n",
    "    # Return the top 10 most similar movies\n",
    "    return movies['title'].iloc[movie_indices]"
   ]
  },
  {
   "cell_type": "code",
   "execution_count": 24,
   "id": "75b324bb",
   "metadata": {},
   "outputs": [
    {
     "name": "stdout",
     "output_type": "stream",
     "text": [
      "Recommendations for 'The Dark Knight Rises':\n",
      "299                              Batman Forever\n",
      "65                              The Dark Knight\n",
      "1359                                     Batman\n",
      "428                              Batman Returns\n",
      "119                               Batman Begins\n",
      "3854    Batman: The Dark Knight Returns, Part 2\n",
      "210                              Batman & Robin\n",
      "2507                                  Slow Burn\n",
      "9            Batman v Superman: Dawn of Justice\n",
      "2274                                   Survivor\n",
      "Name: title, dtype: object\n"
     ]
    }
   ],
   "source": [
    "# Get recommendations for a sample movie\n",
    "sample_movie = \"The Dark Knight Rises\"\n",
    "recommendations = get_recommendations(sample_movie)\n",
    "print(f\"Recommendations for '{sample_movie}':\")\n",
    "print(recommendations)"
   ]
  },
  {
   "cell_type": "code",
   "execution_count": 25,
   "id": "c09cfb5a",
   "metadata": {},
   "outputs": [
    {
     "name": "stdout",
     "output_type": "stream",
     "text": [
      "Recommendations for 'The Mask':\n",
      "309                        Son of the Mask\n",
      "2349                     Small Time Crooks\n",
      "4253                    Closer to the Moon\n",
      "918                             Inside Man\n",
      "2767                         Birthday Girl\n",
      "3142                        American Heist\n",
      "4011    Halloween III: Season of the Witch\n",
      "534                                Bandits\n",
      "3106              High Heels and Low Lifes\n",
      "782                             The Spirit\n",
      "Name: title, dtype: object\n"
     ]
    }
   ],
   "source": [
    "# Get recommendations for a sample movie\n",
    "sample_movie = \"The Mask\"\n",
    "recommendations = get_recommendations(sample_movie)\n",
    "print(f\"Recommendations for '{sample_movie}':\")\n",
    "print(recommendations)"
   ]
  },
  {
   "cell_type": "code",
   "execution_count": null,
   "id": "752dc583",
   "metadata": {},
   "outputs": [],
   "source": []
  }
 ],
 "metadata": {
  "kernelspec": {
   "display_name": "base",
   "language": "python",
   "name": "python3"
  },
  "language_info": {
   "codemirror_mode": {
    "name": "ipython",
    "version": 3
   },
   "file_extension": ".py",
   "mimetype": "text/x-python",
   "name": "python",
   "nbconvert_exporter": "python",
   "pygments_lexer": "ipython3",
   "version": "3.12.3"
  }
 },
 "nbformat": 4,
 "nbformat_minor": 5
}
